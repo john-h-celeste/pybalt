{
 "cells": [
  {
   "cell_type": "code",
   "execution_count": 2,
   "id": "ef697a81",
   "metadata": {},
   "outputs": [],
   "source": [
    "# everything is an object </3\n",
    "# objects have properties and methods"
   ]
  },
  {
   "cell_type": "code",
   "execution_count": 3,
   "id": "9529097c",
   "metadata": {},
   "outputs": [],
   "source": [
    "x = 5"
   ]
  },
  {
   "cell_type": "code",
   "execution_count": 4,
   "id": "3e3e266d",
   "metadata": {},
   "outputs": [
    {
     "ename": "AttributeError",
     "evalue": "'int' object has no attribute 'append'",
     "output_type": "error",
     "traceback": [
      "\u001b[31m---------------------------------------------------------------------------\u001b[39m",
      "\u001b[31mAttributeError\u001b[39m                            Traceback (most recent call last)",
      "\u001b[36mCell\u001b[39m\u001b[36m \u001b[39m\u001b[32mIn[4]\u001b[39m\u001b[32m, line 1\u001b[39m\n\u001b[32m----> \u001b[39m\u001b[32m1\u001b[39m \u001b[43mx\u001b[49m\u001b[43m.\u001b[49m\u001b[43mappend\u001b[49m \u001b[38;5;66;03m# no.\u001b[39;00m\n",
      "\u001b[31mAttributeError\u001b[39m: 'int' object has no attribute 'append'"
     ]
    }
   ],
   "source": [
    "x.append # no."
   ]
  },
  {
   "cell_type": "code",
   "execution_count": 5,
   "id": "e177ccdf",
   "metadata": {},
   "outputs": [
    {
     "name": "stdout",
     "output_type": "stream",
     "text": [
      "x is 5 with type <class 'int'>\n"
     ]
    }
   ],
   "source": [
    "print('x is', x, 'with type', type(x))"
   ]
  },
  {
   "cell_type": "code",
   "execution_count": 6,
   "id": "074276f4",
   "metadata": {},
   "outputs": [
    {
     "data": {
      "text/plain": [
       "True"
      ]
     },
     "execution_count": 6,
     "metadata": {},
     "output_type": "execute_result"
    }
   ],
   "source": [
    "x.is_integer()"
   ]
  },
  {
   "cell_type": "code",
   "execution_count": 8,
   "id": "337e67fa",
   "metadata": {},
   "outputs": [
    {
     "data": {
      "text/plain": [
       "5"
      ]
     },
     "execution_count": 8,
     "metadata": {},
     "output_type": "execute_result"
    }
   ],
   "source": [
    "x.numerator"
   ]
  },
  {
   "cell_type": "code",
   "execution_count": 14,
   "id": "b799e933",
   "metadata": {},
   "outputs": [
    {
     "name": "stdout",
     "output_type": "stream",
     "text": [
      "id(x) = 104434446099368\n",
      "id(x) = 104434446099400\n",
      "id(x) = 104434446099368\n",
      "id(x) = 129702312580832\n",
      "id(x) = 129702312584960\n",
      "id(x) = 129702312505824\n",
      "id(x) = 129701970710192\n",
      "id(x) = 129701970710768\n",
      "id(x) = 129701970711248\n"
     ]
    }
   ],
   "source": [
    "x = 1\n",
    "print('id(x) =', id(x))\n",
    "\n",
    "x = 2\n",
    "print('id(x) =', id(x))\n",
    "\n",
    "x = 1\n",
    "print('id(x) =', id(x))\n",
    "\n",
    "x = 10000000000000000000000000\n",
    "print('id(x) =', id(x))\n",
    "\n",
    "x = 20000000000000000000000000\n",
    "print('id(x) =', id(x))\n",
    "\n",
    "x = 10000000000000000000000000\n",
    "print('id(x) =', id(x))\n",
    "\n",
    "x = 100000000\n",
    "print('id(x) =', id(x))\n",
    "\n",
    "x = 200000000\n",
    "print('id(x) =', id(x))\n",
    "\n",
    "x = 100000000\n",
    "print('id(x) =', id(x))"
   ]
  },
  {
   "cell_type": "code",
   "execution_count": 11,
   "id": "7b9125ae",
   "metadata": {},
   "outputs": [
    {
     "name": "stdout",
     "output_type": "stream",
     "text": [
      "1\n",
      "-1\n"
     ]
    }
   ],
   "source": [
    "print(int(1.75))\n",
    "print(int(-1.75))"
   ]
  },
  {
   "cell_type": "code",
   "execution_count": null,
   "id": "8ad19c87",
   "metadata": {},
   "outputs": [],
   "source": [
    "# i can't handle this\n",
    "# the [+ code] button is making me explode"
   ]
  }
 ],
 "metadata": {
  "kernelspec": {
   "display_name": "Python 3",
   "language": "python",
   "name": "python3"
  },
  "language_info": {
   "codemirror_mode": {
    "name": "ipython",
    "version": 3
   },
   "file_extension": ".py",
   "mimetype": "text/x-python",
   "name": "python",
   "nbconvert_exporter": "python",
   "pygments_lexer": "ipython3",
   "version": "3.12.1"
  }
 },
 "nbformat": 4,
 "nbformat_minor": 5
}
